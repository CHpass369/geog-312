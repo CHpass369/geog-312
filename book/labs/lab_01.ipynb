{
 "cells": [
  {
   "cell_type": "markdown",
   "id": "0",
   "metadata": {},
   "source": [
    "# Lab 1\n",
    "\n",
    "[![Open In Colab](https://colab.research.google.com/assets/colab-badge.svg)](https://colab.research.google.com/github/giswqs/geog-312/blob/main/book/labs/lab_01.ipynb)"
   ]
  },
  {
   "cell_type": "markdown",
   "id": "1",
   "metadata": {},
   "source": [
    "## Exercise 1: Variable Assignment and Basic Operations\n",
    "\n",
    "Create variables to store the following geospatial data:\n",
    "\n",
    "- The latitude and longitude of New York City: 40.7128, -74.0060.\n",
    "- The population of New York City: 8,336,817.\n",
    "- The area of New York City in square kilometers: 783.8.\n",
    "\n",
    "Perform the following tasks:\n",
    "\n",
    "1. Calculate and print the population density of New York City (population per square kilometer).\n",
    "2. Print the coordinates in the format \"Latitude: [latitude], Longitude: [longitude]\"."
   ]
  },
  {
   "cell_type": "code",
   "execution_count": 2,
   "id": "2",
   "metadata": {},
   "outputs": [
    {
     "name": "stdout",
     "output_type": "stream",
     "text": [
      "Population Density: 10636.41 person per square kilometer\n",
      "Latitude: 40.713, Longitude: -74.006\n"
     ]
    }
   ],
   "source": [
    "# Variables for New York City\n",
    "latitude = 40.7128\n",
    "longitude = -74.0060\n",
    "population = 8336817\n",
    "area = 783.8\n",
    "\n",
    "# Calculate population density\n",
    "population_density = population / area\n",
    "\n",
    "# Print the population density\n",
    "print(f\"Population Density: {population_density:.2f} person per square kilometer\")\n",
    "\n",
    "# Print the coordinates\n",
    "print(f\"Latitude: {latitude:.3f}, Longitude: {longitude:.3f}\")"
   ]
  },
  {
   "cell_type": "markdown",
   "id": "3",
   "metadata": {},
   "source": [
    "## Exercise 2: Working with Strings\n",
    "\n",
    "Create a string variable to store the name of a city, such as \"San Francisco\". Perform the following operations:\n",
    "\n",
    "1. Convert the string to lowercase and print the result.\n",
    "2. Convert the string to uppercase and print the result.\n",
    "3. Replace \"San\" with \"Los\" in the city name and print the new string."
   ]
  },
  {
   "cell_type": "code",
   "execution_count": 5,
   "id": "4",
   "metadata": {},
   "outputs": [
    {
     "name": "stdout",
     "output_type": "stream",
     "text": [
      "san francisco\n",
      "SAN FRANCISCO\n",
      "San francisco\n",
      "San Francisco\n",
      "sAN fRANCISCO\n",
      "Los Francisco\n"
     ]
    }
   ],
   "source": [
    "city = \"San Francisco\"\n",
    "\n",
    "city_lowercase = city.lower()\n",
    "city_uppercase = city.upper()\n",
    "city_capitalize = city.capitalize()\n",
    "city_title = city.title()\n",
    "city_swapcase = city.swapcase()\n",
    "city_replace = city.replace(\"San\", \"Los\")\n",
    "\n",
    "print(city_lowercase)\n",
    "print(city_uppercase)\n",
    "print(city_capitalize)\n",
    "print(city_title)\n",
    "print(city_swapcase)\n",
    "print(city_replace)"
   ]
  },
  {
   "cell_type": "markdown",
   "id": "5",
   "metadata": {},
   "source": [
    "## Exercise 3: Using Lists\n",
    "\n",
    "Create a list of tuples, where each tuple contains the name of a city and its corresponding latitude and longitude:\n",
    "\n",
    "- New York City: (40.7128, -74.0060)\n",
    "- Los Angeles: (34.0522, -118.2437)\n",
    "- Chicago: (41.8781, -87.6298)\n",
    "\n",
    "Perform the following tasks:\n",
    "\n",
    "1. Add a new city (e.g., Miami: (25.7617, -80.1918)) to the list.\n",
    "2. Print the entire list of cities.\n",
    "3. Slice the list to print only the first two cities."
   ]
  },
  {
   "cell_type": "code",
   "execution_count": 10,
   "id": "6",
   "metadata": {},
   "outputs": [
    {
     "name": "stdout",
     "output_type": "stream",
     "text": [
      "All cities: [('New York City', 40.7128, -74.006), ('Los Angeles', 34.0522, -118.2437), ('Chicago', 41.8781, -87.6298), ('Miami', 25.7617, -80.1918)]\n",
      "First two cities: [('New York City', 40.7128, -74.006), ('Los Angeles', 34.0522, -118.2437), ('Chicago', 41.8781, -87.6298)]\n",
      "('Miami', 25.7617, -80.1918)\n",
      "('Chicago', 41.8781, -87.6298)\n",
      "('Los Angeles', 34.0522, -118.2437)\n",
      "('New York City', 40.7128, -74.006)\n"
     ]
    }
   ],
   "source": [
    "# List of tuples with city names and their coordinates\n",
    "cities = [\n",
    "    (\"New York City\", 40.7128, -74.0060),\n",
    "    (\"Los Angeles\", 34.0522, -118.2437),\n",
    "    (\"Chicago\", 41.8781, -87.6298)\n",
    "]\n",
    "\n",
    "# Add a new city to the list\n",
    "cities.append((\"Miami\", 25.7617, -80.1918))\n",
    "\n",
    "# Print the entire list of cities\n",
    "print(\"All cities:\", cities)\n",
    "\n",
    "# Slice the list to print only the first two cities\n",
    "print(\"First two cities:\", cities[:-1])\n",
    "\n",
    "for city in reversed(cities):\n",
    "    print(city)"
   ]
  },
  {
   "cell_type": "markdown",
   "id": "7",
   "metadata": {},
   "source": [
    "## Exercise 4: Using Tuples\n",
    "\n",
    "Create a tuple to store the coordinates (latitude, longitude) of the Eiffel Tower: (48.8584, 2.2945). Perform the following tasks:\n",
    "\n",
    "1. Access and print the latitude and longitude values from the tuple.\n",
    "2. Try to change the latitude value to 48.8585. What happens? Explain why."
   ]
  },
  {
   "cell_type": "code",
   "execution_count": 1,
   "id": "8",
   "metadata": {},
   "outputs": [
    {
     "name": "stdout",
     "output_type": "stream",
     "text": [
      "Latitude: 48.8584, Longitude: 2.2945\n",
      "Error: 'tuple' object does not support item assignment - Tuples are immutable, so you cannot change their values.\n"
     ]
    }
   ],
   "source": [
    "# Tuple for Eiffel Tower coordinates\n",
    "eiffel_tower_coords = (48.8584, 2.2945)\n",
    "\n",
    "# Access and print the latitude and longitude values\n",
    "latitude_eiffel = eiffel_tower_coords[0]\n",
    "longitude_eiffel = eiffel_tower_coords[1]\n",
    "print(f\"Latitude: {latitude_eiffel}, Longitude: {longitude_eiffel}\")\n",
    "\n",
    "# Try to change the latitude value (this will raise an error)\n",
    "try:\n",
    "    eiffel_tower_coords[12] = 48.8585\n",
    "except TypeError as e:\n",
    "    print(f\"Error: {e} - Tuples are immutable, so you cannot change their values.\")"
   ]
  },
  {
   "cell_type": "markdown",
   "id": "9",
   "metadata": {},
   "source": [
    "## Exercise 5: Working with Sets\n",
    "\n",
    "Create a set of countries you have visited, such as {\"USA\", \"France\", \"Germany\"}. Perform the following tasks:\n",
    "\n",
    "1. Add a new country to the set.\n",
    "2. Try to add the same country again. What happens?\n",
    "3. Print the updated set."
   ]
  },
  {
   "cell_type": "code",
   "execution_count": 7,
   "id": "10",
   "metadata": {},
   "outputs": [
    {
     "name": "stdout",
     "output_type": "stream",
     "text": [
      "{'France', 'USA', 'Italy', 'Germany'}\n"
     ]
    }
   ],
   "source": [
    "# Create a set of countries visited\n",
    "countries_visited = {\"USA\", \"France\", \"Germany\"}\n",
    "\n",
    "# Add a new country to the set\n",
    "countries_visited.add(\"Italy\")\n",
    "\n",
    "# Try to add the same country again\n",
    "countries_visited.add(\"Italy\")\n",
    "\n",
    "# Print the updated set\n",
    "print(countries_visited)"
   ]
  },
  {
   "cell_type": "markdown",
   "id": "11",
   "metadata": {},
   "source": [
    "## Exercise 6: Working with Dictionaries\n",
    "\n",
    "Create a dictionary to store information about a specific geospatial feature, such as a river:\n",
    "\n",
    "- Name: \"Amazon River\"\n",
    "- Length: 6400 km\n",
    "- Countries: [\"Brazil\", \"Peru\", \"Colombia\"]\n",
    "\n",
    "Perform the following tasks:\n",
    "\n",
    "1. Add a new key-value pair to the dictionary to store the river's average discharge (e.g., 209,000 m³/s).\n",
    "2. Update the length of the river to 6992 km.\n",
    "3. Print the dictionary."
   ]
  },
  {
   "cell_type": "code",
   "execution_count": 30,
   "id": "12",
   "metadata": {},
   "outputs": [
    {
     "name": "stdout",
     "output_type": "stream",
     "text": [
      "{'name': 'Amazon River', 'length': 6992, 'countries': ['Brazil', 'Peru', 'Colombia'], 'discharge': 209000}\n"
     ]
    }
   ],
   "source": [
    "river = {\n",
    "    \"name\" : \"Amazon River\",\n",
    "    \"length\" : 6400,\n",
    "    \"countries\" : [\"Brazil\", \"Peru\", \"Colombia\"]\n",
    "}\n",
    "\n",
    "river[\"discharge\"] = 209000\n",
    "\n",
    "river.update({\"length\" : 6992})\n",
    "\n",
    "print(river)"
   ]
  },
  {
   "cell_type": "markdown",
   "id": "13",
   "metadata": {},
   "source": [
    "## Exercise 7: Nested Data Structures\n",
    "\n",
    "Create a dictionary to represent a city that contains the city's name, population, and coordinates (latitude, longitude):\n",
    "\n",
    "- Name: \"Tokyo\"\n",
    "- Population: 13,515,271\n",
    "- Coordinates: (35.6895, 139.6917)\n",
    "\n",
    "Perform the following tasks:\n",
    "\n",
    "1. Access and print the population of the city.\n",
    "2. Access and print the city's latitude.\n",
    "3. Update the population to 14,000,000 and print the updated dictionary."
   ]
  },
  {
   "cell_type": "code",
   "execution_count": 6,
   "id": "14",
   "metadata": {},
   "outputs": [
    {
     "name": "stdout",
     "output_type": "stream",
     "text": [
      "The city of Tokyo and population is 13515271\n",
      "The latitude of Tokyo is 35.6895\n",
      "The updated population of Tokyo is 14000000\n"
     ]
    }
   ],
   "source": [
    "citie = {\n",
    "    \"name\" : \"Tokyo\",\n",
    "    \"population\" : 13515271,\n",
    "    \"coordinates\" : (35.6895, 139.6917)\n",
    "}\n",
    "\n",
    "print(f'The city of {citie[\"name\"]} and population is {citie[\"population\"]}')\n",
    "\n",
    "print(f'The latitude of {citie[\"name\"]} is {citie[\"coordinates\"][0]}')\n",
    "\n",
    "citie[\"population\"] = 14000000\n",
    "\n",
    "print(f'The updated population of {citie[\"name\"]} is {citie[\"population\"]}')"
   ]
  },
  {
   "cell_type": "markdown",
   "id": "15",
   "metadata": {},
   "source": [
    "## Exercise 8: List Operations\n",
    "\n",
    "Given the list of cities from Exercise 3, perform the following operations:\n",
    "\n",
    "1. Sort the list of cities alphabetically by name.\n",
    "2. Create a new list that contains only the city names.\n",
    "3. Remove the last city from the original list and print the updated list."
   ]
  },
  {
   "cell_type": "code",
   "execution_count": 28,
   "id": "16",
   "metadata": {},
   "outputs": [
    {
     "name": "stdout",
     "output_type": "stream",
     "text": [
      "Sorted cities: [('Chicago', 41.8781, -87.6298), ('Los Angeles', 34.0522, -118.2437), ('Miami', 25.7617, -80.1918), ('New York City', 40.7128, -74.006)]\n",
      "City names: ['New York City', 'Los Angeles', 'Chicago', 'Miami']\n",
      "Removed city: [('New York City', 40.7128, -74.006), ('Los Angeles', 34.0522, -118.2437), ('Chicago', 41.8781, -87.6298)]\n"
     ]
    }
   ],
   "source": [
    "# Sort the list of cities alphabetically by name\n",
    "cities_sorted = sorted(cities, key=lambda city: city[0])\n",
    "\n",
    "# Print the sorted list of cities\n",
    "print(\"Sorted cities:\", cities_sorted)\n",
    "\n",
    "# Create a new list that contains only the city names\n",
    "only_city_names = [city[0] for city in cities]\n",
    "print(\"City names:\", only_city_names)\n",
    "\n",
    "# Remove the last city from the original list\n",
    "last_city = cities.pop(-1)\n",
    "print(\"Removed city:\", cities)\n"
   ]
  },
  {
   "cell_type": "markdown",
   "id": "17",
   "metadata": {},
   "source": [
    "## Exercise 9: Dictionary Operations\n",
    "\n",
    "Using the dictionary from Exercise 6, perform the following tasks:\n",
    "\n",
    "1. Check if the key \"Length\" exists in the dictionary.\n",
    "2. Print all the keys in the dictionary.\n",
    "3. Print all the values in the dictionary."
   ]
  },
  {
   "cell_type": "code",
   "execution_count": 33,
   "id": "18",
   "metadata": {},
   "outputs": [
    {
     "name": "stdout",
     "output_type": "stream",
     "text": [
      "The Key 'Length' is in the dictionary\n",
      "name\n",
      "length\n",
      "countries\n",
      "discharge\n",
      "Amazon River\n",
      "6992\n",
      "['Brazil', 'Peru', 'Colombia']\n",
      "209000\n"
     ]
    }
   ],
   "source": [
    "if 'length' in river:\n",
    "    print(f\"The Key 'Length' is in the dictionary\")\n",
    "else:\n",
    "    print(f\"The Key 'Length' is not in the dictionary\")\n",
    "\n",
    "for key in river:\n",
    "    print(key)\n",
    "\n",
    "for value in river.values():\n",
    "    print(value)"
   ]
  },
  {
   "cell_type": "markdown",
   "id": "19",
   "metadata": {},
   "source": [
    "## Exercise 10: Practical Application\n",
    "\n",
    "Imagine you have a list of tuples, each representing a location with its name, latitude, and longitude:"
   ]
  },
  {
   "cell_type": "code",
   "execution_count": 34,
   "id": "20",
   "metadata": {},
   "outputs": [],
   "source": [
    "locations = [\n",
    "    (\"Mount Everest\", 27.9881, 86.9250),\n",
    "    (\"K2\", 35.8808, 76.5155),\n",
    "    (\"Kangchenjunga\", 27.7025, 88.1475),\n",
    "]"
   ]
  },
  {
   "cell_type": "markdown",
   "id": "21",
   "metadata": {},
   "source": [
    "Perform the following tasks:\n",
    "\n",
    "1. Create a new list that contains only the names of the locations.\n",
    "2. Create a dictionary where the keys are location names and the values are tuples of their coordinates.\n",
    "3. Print the latitude of \"K2\" using the dictionary."
   ]
  },
  {
   "cell_type": "code",
   "execution_count": 40,
   "id": "22",
   "metadata": {},
   "outputs": [
    {
     "name": "stdout",
     "output_type": "stream",
     "text": [
      "<class 'list'>\n",
      "names: ['Mount Everest', 'K2', 'Kangchenjunga']\n",
      "City coordinates: {'Mount Everest': (27.9881, 86.925), 'K2': (35.8808, 76.5155), 'Kangchenjunga': (27.7025, 88.1475)}\n",
      "Latitude of K2: 35.8808\n"
     ]
    }
   ],
   "source": [
    "only_names = [name[0] for name in locations]\n",
    "list(only_names)\n",
    "print(type(only_names))\n",
    "print(\"names:\", only_names)\n",
    "\n",
    "# Create a dictionary with the city names as keys and their coordinates as values\n",
    "city_coords = {city[0]: city[1:] for city in locations}\n",
    "print(\"City coordinates:\", city_coords)\n",
    "\n",
    "# Print latitude of K2\n",
    "print(\"Latitude of K2:\", city_coords[\"K2\"][0])"
   ]
  }
 ],
 "metadata": {
  "kernelspec": {
   "display_name": "geo",
   "language": "python",
   "name": "python3"
  },
  "language_info": {
   "codemirror_mode": {
    "name": "ipython",
    "version": 3
   },
   "file_extension": ".py",
   "mimetype": "text/x-python",
   "name": "python",
   "nbconvert_exporter": "python",
   "pygments_lexer": "ipython3",
<<<<<<< HEAD
   "version": "3.11.11"
=======
   "version": "3.11.10"
>>>>>>> 84c178a8c64813edf7a7ff2fdd5d90c96c331db7
  }
 },
 "nbformat": 4,
 "nbformat_minor": 5
}
