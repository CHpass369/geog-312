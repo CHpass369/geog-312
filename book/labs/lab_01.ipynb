{
 "cells": [
  {
   "cell_type": "markdown",
   "id": "0",
   "metadata": {},
   "source": [
    "# Lab 1\n",
    "\n",
    "[![Open In Colab](https://colab.research.google.com/assets/colab-badge.svg)](https://colab.research.google.com/github/giswqs/geog-312/blob/main/book/labs/lab_01.ipynb)"
   ]
  },
  {
   "cell_type": "markdown",
   "id": "1",
   "metadata": {},
   "source": [
    "## Exercise 1: Variable Assignment and Basic Operations\n",
    "\n",
    "Create variables to store the following geospatial data:\n",
    "\n",
    "- The latitude and longitude of New York City: 40.7128, -74.0060.\n",
    "- The population of New York City: 8,336,817.\n",
    "- The area of New York City in square kilometers: 783.8.\n",
    "\n",
    "Perform the following tasks:\n",
    "\n",
    "1. Calculate and print the population density of New York City (population per square kilometer).\n",
    "2. Print the coordinates in the format \"Latitude: [latitude], Longitude: [longitude]\"."
   ]
  },
  {
   "cell_type": "code",
   "execution_count": 2,
   "id": "2",
   "metadata": {},
   "outputs": [
    {
     "name": "stdout",
     "output_type": "stream",
     "text": [
      "Population Density: 10636.409 people per square kilometer\n",
      "Latitude: 40.7128, Longitude: -74.006\n"
     ]
    }
   ],
   "source": [
    "# Variables for New York City\n",
    "latitude = 40.7128\n",
    "longitude = -74.0060\n",
    "population = 8336817\n",
    "area = 783.8\n",
    "\n",
    "# Calculate population density\n",
    "population_density = population / area\n",
    "\n",
    "# Print the population density\n",
    "print(f\"Population Density: {population_density:.3f} people per square kilometer\")\n",
    "\n",
    "# Print the coordinates\n",
    "print(f\"Latitude: {latitude}, Longitude: {longitude}\")"
   ]
  },
  {
   "cell_type": "markdown",
   "id": "3",
   "metadata": {},
   "source": [
    "## Exercise 2: Working with Strings\n",
    "\n",
    "Create a string variable to store the name of a city, such as \"San Francisco\". Perform the following operations:\n",
    "\n",
    "1. Convert the string to lowercase and print the result.\n",
    "2. Convert the string to uppercase and print the result.\n",
    "3. Replace \"San\" with \"Los\" in the city name and print the new string."
   ]
  },
  {
   "cell_type": "code",
   "execution_count": 3,
   "id": "4",
   "metadata": {},
   "outputs": [
    {
     "name": "stdout",
     "output_type": "stream",
     "text": [
      "san francisco\n",
      "SAN FRANCISCO\n",
      "Los Francisco\n"
     ]
    }
   ],
   "source": [
    "city = \"San Francisco\"\n",
    "\n",
    "city_lowercase = city.lower()\n",
    "city_uppercase = city.upper()\n",
    "city_replace = city.replace(\"San\", \"Los\")\n",
    "\n",
    "print(city_lowercase)\n",
    "print(city_uppercase)\n",
    "print(city_replace)"
   ]
  },
  {
   "cell_type": "markdown",
   "id": "5",
   "metadata": {},
   "source": [
    "## Exercise 3: Using Lists\n",
    "\n",
    "Create a list of tuples, where each tuple contains the name of a city and its corresponding latitude and longitude:\n",
    "\n",
    "- New York City: (40.7128, -74.0060)\n",
    "- Los Angeles: (34.0522, -118.2437)\n",
    "- Chicago: (41.8781, -87.6298)\n",
    "\n",
    "Perform the following tasks:\n",
    "\n",
    "1. Add a new city (e.g., Miami: (25.7617, -80.1918)) to the list.\n",
    "2. Print the entire list of cities.\n",
    "3. Slice the list to print only the first two cities."
   ]
  },
  {
   "cell_type": "code",
   "execution_count": 5,
   "id": "6",
   "metadata": {},
   "outputs": [
    {
     "name": "stdout",
     "output_type": "stream",
     "text": [
      "All cities: [('New York City', 40.7128, -74.006), ('Los Angeles', 34.0522, -118.2437), ('Chicago', 41.8781, -87.6298), ('Miami', 25.7617, -80.1918)]\n",
      "First two cities: [('New York City', 40.7128, -74.006), ('Los Angeles', 34.0522, -118.2437)]\n"
     ]
    }
   ],
   "source": [
    "# List of tuples with city names and their coordinates\n",
    "cities = [\n",
    "    (\"New York City\", 40.7128, -74.0060),\n",
    "    (\"Los Angeles\", 34.0522, -118.2437),\n",
    "    (\"Chicago\", 41.8781, -87.6298)\n",
    "]\n",
    "\n",
    "# Add a new city to the list\n",
    "cities.append((\"Miami\", 25.7617, -80.1918))\n",
    "\n",
    "# Print the entire list of cities\n",
    "print(\"All cities:\", cities)\n",
    "\n",
    "# Slice the list to print only the first two cities\n",
    "print(\"First two cities:\", cities[:2])"
   ]
  },
  {
   "cell_type": "markdown",
   "id": "7",
   "metadata": {},
   "source": [
    "## Exercise 4: Using Tuples\n",
    "\n",
    "Create a tuple to store the coordinates (latitude, longitude) of the Eiffel Tower: (48.8584, 2.2945). Perform the following tasks:\n",
    "\n",
    "1. Access and print the latitude and longitude values from the tuple.\n",
    "2. Try to change the latitude value to 48.8585. What happens? Explain why."
   ]
  },
  {
   "cell_type": "code",
   "execution_count": 6,
   "id": "8",
   "metadata": {},
   "outputs": [
    {
     "name": "stdout",
     "output_type": "stream",
     "text": [
      "Latitude: 48.8584, Longitude: 2.2945\n",
      "Error: 'tuple' object does not support item assignment - Tuples are immutable, so you cannot change their values.\n"
     ]
    }
   ],
   "source": [
    "# Tuple for Eiffel Tower coordinates\n",
    "eiffel_tower_coords = (48.8584, 2.2945)\n",
    "\n",
    "# Access and print the latitude and longitude values\n",
    "latitude_eiffel = eiffel_tower_coords[0]\n",
    "longitude_eiffel = eiffel_tower_coords[1]\n",
    "print(f\"Latitude: {latitude_eiffel}, Longitude: {longitude_eiffel}\")\n",
    "\n",
    "# Try to change the latitude value (this will raise an error)\n",
    "try:\n",
    "    eiffel_tower_coords[0] = 48.8585\n",
    "except TypeError as e:\n",
    "    print(f\"Error: {e} - Tuples are immutable, so you cannot change their values.\")"
   ]
  },
  {
   "cell_type": "markdown",
   "id": "9",
   "metadata": {},
   "source": [
    "## Exercise 5: Working with Sets\n",
    "\n",
    "Create a set of countries you have visited, such as {\"USA\", \"France\", \"Germany\"}. Perform the following tasks:\n",
    "\n",
    "1. Add a new country to the set.\n",
    "2. Try to add the same country again. What happens?\n",
    "3. Print the updated set."
   ]
  },
  {
   "cell_type": "code",
   "execution_count": 7,
   "id": "10",
   "metadata": {},
   "outputs": [
    {
     "name": "stdout",
     "output_type": "stream",
     "text": [
      "{'France', 'USA', 'Italy', 'Germany'}\n"
     ]
    }
   ],
   "source": [
    "# Create a set of countries visited\n",
    "countries_visited = {\"USA\", \"France\", \"Germany\"}\n",
    "\n",
    "# Add a new country to the set\n",
    "countries_visited.add(\"Italy\")\n",
    "\n",
    "# Try to add the same country again\n",
    "countries_visited.add(\"Italy\")\n",
    "\n",
    "# Print the updated set\n",
    "print(countries_visited)"
   ]
  },
  {
   "cell_type": "markdown",
   "id": "11",
   "metadata": {},
   "source": [
    "## Exercise 6: Working with Dictionaries\n",
    "\n",
    "Create a dictionary to store information about a specific geospatial feature, such as a river:\n",
    "\n",
    "- Name: \"Amazon River\"\n",
    "- Length: 6400 km\n",
    "- Countries: [\"Brazil\", \"Peru\", \"Colombia\"]\n",
    "\n",
    "Perform the following tasks:\n",
    "\n",
    "1. Add a new key-value pair to the dictionary to store the river's average discharge (e.g., 209,000 m³/s).\n",
    "2. Update the length of the river to 6992 km.\n",
    "3. Print the dictionary."
   ]
  },
  {
   "cell_type": "code",
   "execution_count": null,
   "id": "12",
   "metadata": {},
   "outputs": [],
   "source": []
  },
  {
   "cell_type": "markdown",
   "id": "13",
   "metadata": {},
   "source": [
    "## Exercise 7: Nested Data Structures\n",
    "\n",
    "Create a dictionary to represent a city that contains the city's name, population, and coordinates (latitude, longitude):\n",
    "\n",
    "- Name: \"Tokyo\"\n",
    "- Population: 13,515,271\n",
    "- Coordinates: (35.6895, 139.6917)\n",
    "\n",
    "Perform the following tasks:\n",
    "\n",
    "1. Access and print the population of the city.\n",
    "2. Access and print the city's latitude.\n",
    "3. Update the population to 14,000,000 and print the updated dictionary."
   ]
  },
  {
   "cell_type": "code",
   "execution_count": null,
   "id": "14",
   "metadata": {},
   "outputs": [],
   "source": []
  },
  {
   "cell_type": "markdown",
   "id": "15",
   "metadata": {},
   "source": [
    "## Exercise 8: List Operations\n",
    "\n",
    "Given the list of cities from Exercise 3, perform the following operations:\n",
    "\n",
    "1. Sort the list of cities alphabetically by name.\n",
    "2. Create a new list that contains only the city names.\n",
    "3. Remove the last city from the original list and print the updated list."
   ]
  },
  {
   "cell_type": "code",
   "execution_count": null,
   "id": "16",
   "metadata": {},
   "outputs": [],
   "source": []
  },
  {
   "cell_type": "markdown",
   "id": "17",
   "metadata": {},
   "source": [
    "## Exercise 9: Dictionary Operations\n",
    "\n",
    "Using the dictionary from Exercise 6, perform the following tasks:\n",
    "\n",
    "1. Check if the key \"Length\" exists in the dictionary.\n",
    "2. Print all the keys in the dictionary.\n",
    "3. Print all the values in the dictionary."
   ]
  },
  {
   "cell_type": "code",
   "execution_count": null,
   "id": "18",
   "metadata": {},
   "outputs": [],
   "source": []
  },
  {
   "cell_type": "markdown",
   "id": "19",
   "metadata": {},
   "source": [
    "## Exercise 10: Practical Application\n",
    "\n",
    "Imagine you have a list of tuples, each representing a location with its name, latitude, and longitude:"
   ]
  },
  {
   "cell_type": "code",
   "execution_count": null,
   "id": "20",
   "metadata": {},
   "outputs": [],
   "source": [
    "locations = [\n",
    "    (\"Mount Everest\", 27.9881, 86.9250),\n",
    "    (\"K2\", 35.8808, 76.5155),\n",
    "    (\"Kangchenjunga\", 27.7025, 88.1475),\n",
    "]"
   ]
  },
  {
   "cell_type": "markdown",
   "id": "21",
   "metadata": {},
   "source": [
    "Perform the following tasks:\n",
    "\n",
    "1. Create a new list that contains only the names of the locations.\n",
    "2. Create a dictionary where the keys are location names and the values are tuples of their coordinates.\n",
    "3. Print the latitude of \"K2\" using the dictionary."
   ]
  },
  {
   "cell_type": "code",
   "execution_count": null,
   "id": "22",
   "metadata": {},
   "outputs": [],
   "source": []
  }
 ],
 "metadata": {
  "kernelspec": {
   "display_name": "geo",
   "language": "python",
   "name": "python3"
  },
  "language_info": {
   "codemirror_mode": {
    "name": "ipython",
    "version": 3
   },
   "file_extension": ".py",
   "mimetype": "text/x-python",
   "name": "python",
   "nbconvert_exporter": "python",
   "pygments_lexer": "ipython3",
   "version": "3.11.9"
  }
 },
 "nbformat": 4,
 "nbformat_minor": 5
}
