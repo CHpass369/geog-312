{
 "cells": [
  {
   "cell_type": "markdown",
   "id": "0",
   "metadata": {},
   "source": [
    "# String Operations\n",
    "\n",
    "[![Open In Colab](https://colab.research.google.com/assets/colab-badge.svg)](https://colab.research.google.com/github/giswqs/geog-312/blob/main/book/python/04_string_operations.ipynb)\n",
    "\n",
    "## Overview\n",
    "\n",
    "This lecture will cover various string operations in Python, with a focus on their application in geospatial contexts. Strings are fundamental in handling textual data, such as names of geographic locations, coordinates, and data extracted from text files. Mastering string operations allows you to effectively manipulate and analyze geographic information, which is essential for tasks like data cleaning, formatting, parsing, and even geocoding.\n",
    "\n",
    "## Learning Objectives\n",
    "\n",
    "By the end of this lecture, you should be able to:\n",
    "\n",
    "- Create and manipulate strings in Python, including concatenation and repetition.\n",
    "- Apply string methods such as `lower()`, `upper()`, `strip()`, `replace()`, and `split()` to process geospatial data.\n",
    "- Format strings using the `format()` method and f-strings to include variable data within strings.\n",
    "- Parse and extract specific information from strings, such as coordinates or location names.\n",
    "- Utilize string operations in practical geospatial tasks, enhancing your ability to work with and manage geographic data."
   ]
  },
  {
   "cell_type": "markdown",
   "id": "1",
   "metadata": {},
   "source": [
    "## Creating and Manipulating Strings\n",
    "\n",
    "Strings in Python are sequences of characters. You can create a string by enclosing characters in single or double quotes."
   ]
  },
  {
   "cell_type": "code",
   "execution_count": 1,
   "id": "2",
   "metadata": {},
   "outputs": [],
   "source": [
    "location_name = \"Mount Everest\"  # A string representing the name of a location"
   ]
  },
  {
   "cell_type": "markdown",
   "id": "3",
   "metadata": {},
   "source": [
    "You can concatenate (join) strings using the `+` operator:"
   ]
  },
  {
   "cell_type": "code",
   "execution_count": 2,
   "id": "4",
   "metadata": {},
   "outputs": [
    {
     "name": "stdout",
     "output_type": "stream",
     "text": [
      "Mount Everest, Nepal\n"
     ]
    }
   ],
   "source": [
    "location_name_full = location_name + \", Nepal\"\n",
    "print(location_name_full)"
   ]
  },
  {
   "cell_type": "markdown",
   "id": "5",
   "metadata": {},
   "source": [
    "You can also repeat strings using the `*` operator:"
   ]
  },
  {
   "cell_type": "code",
   "execution_count": 3,
   "id": "6",
   "metadata": {},
   "outputs": [
    {
     "name": "stdout",
     "output_type": "stream",
     "text": [
      "----------\n"
     ]
    }
   ],
   "source": [
    "separator = \"-\" * 10\n",
    "print(separator)"
   ]
  },
  {
   "cell_type": "markdown",
   "id": "7",
   "metadata": {},
   "source": [
    "Let's construct a basic SQL query string to select data from a geospatial database:"
   ]
  },
  {
   "cell_type": "code",
   "execution_count": 4,
   "id": "8",
   "metadata": {},
   "outputs": [
    {
     "name": "stdout",
     "output_type": "stream",
     "text": [
      "SELECT * FROM locations WHERE country = 'Nepal';\n"
     ]
    }
   ],
   "source": [
    "table_name = \"locations\"\n",
    "condition = \"country = 'Nepal'\"\n",
    "sql_query = f\"SELECT * FROM {table_name} WHERE {condition};\"\n",
    "print(sql_query)"
   ]
  },
  {
   "cell_type": "markdown",
   "id": "9",
   "metadata": {},
   "source": [
    "In more complex scenarios, you might want to dynamically build queries based on user input or multiple conditions."
   ]
  },
  {
   "cell_type": "markdown",
   "id": "10",
   "metadata": {},
   "source": [
    "## String Methods for Geospatial Data\n",
    "\n",
    "Python provides various built-in methods to manipulate strings. Some commonly used methods include:\n",
    "\n",
    "- `lower()`, `upper()`: Convert strings to lowercase or uppercase.\n",
    "- `strip()`: Remove leading and trailing whitespace.\n",
    "- `lstrip()`, `rstrip()`: Remove leading or trailing whitespace.\n",
    "- `replace()`: Replace a substring with another substring.\n",
    "- `split()`: Split a string into a list of substrings based on a delimiter.\n",
    "- `join()`: Join a list of strings into a single string with a specified delimiter."
   ]
  },
  {
   "cell_type": "code",
   "execution_count": 6,
   "id": "11",
   "metadata": {},
   "outputs": [
    {
     "name": "stdout",
     "output_type": "stream",
     "text": [
      "MOUNT EVEREST\n"
     ]
    }
   ],
   "source": [
    "location_name_upper = location_name.upper()\n",
    "print(location_name_upper)  # Convert to uppercase\n",
    "\n",
    "location_name_other = location_name."
   ]
  },
  {
   "cell_type": "code",
   "execution_count": 10,
   "id": "4fb90eba",
   "metadata": {},
   "outputs": [
    {
     "data": {
      "text/plain": [
       "True"
      ]
     },
     "execution_count": 10,
     "metadata": {},
     "output_type": "execute_result"
    }
   ],
   "source": [
    "#ask if its upper or lower\n",
    "location_name_upper.isupper()"
   ]
  },
  {
   "cell_type": "code",
   "execution_count": 11,
   "id": "12",
   "metadata": {},
   "outputs": [
    {
     "name": "stdout",
     "output_type": "stream",
     "text": [
      "Mount Everest\n"
     ]
    }
   ],
   "source": [
    "location_name_clean = location_name.strip()\n",
    "print(location_name_clean)  # Remove leading/trailing whitespace"
   ]
  },
  {
   "cell_type": "code",
   "execution_count": 12,
   "id": "13",
   "metadata": {},
   "outputs": [
    {
     "name": "stdout",
     "output_type": "stream",
     "text": [
      "Mount K2\n"
     ]
    }
   ],
   "source": [
    "location_name_replaced = location_name.replace(\"Everest\", \"K2\")\n",
    "print(location_name_replaced)  # Replace 'Everest' with 'K2'"
   ]
  },
  {
   "cell_type": "code",
   "execution_count": 13,
   "id": "14",
   "metadata": {},
   "outputs": [
    {
     "name": "stdout",
     "output_type": "stream",
     "text": [
      "['Mount Everest', 'Nepal']\n"
     ]
    }
   ],
   "source": [
    "location_parts = location_name_full.split(\", \")\n",
    "print(location_parts)  # Split the string into a list"
   ]
  },
  {
   "cell_type": "markdown",
   "id": "15",
   "metadata": {},
   "source": [
    "Suppose you have a list of country names with inconsistent formatting, and you want to normalize them:"
   ]
  },
  {
   "cell_type": "code",
   "execution_count": 14,
   "id": "16",
   "metadata": {},
   "outputs": [
    {
     "name": "stdout",
     "output_type": "stream",
     "text": [
      "['Nepal', 'India', 'China', 'Bhutan']\n"
     ]
    }
   ],
   "source": [
    "countries = [\" nepal\", \"INDIA \", \"china \", \"Bhutan\"]\n",
    "normalized_countries = [country.strip().title() for country in countries]\n",
    "print(normalized_countries)"
   ]
  },
  {
   "cell_type": "markdown",
   "id": "17",
   "metadata": {},
   "source": [
    "This operation removes any leading/trailing spaces and ensures consistent capitalization."
   ]
  },
  {
   "cell_type": "markdown",
   "id": "18",
   "metadata": {},
   "source": [
    "## Formatting Strings\n",
    "\n",
    "String formatting is essential when preparing data for output or when you need to include variable values in strings. You can use the `format()` method or f-strings (in Python 3.6 and above) for string formatting."
   ]
  },
  {
   "cell_type": "code",
   "execution_count": null,
   "id": "19",
   "metadata": {},
   "outputs": [],
   "source": [
    "latitude = 27.9881\n",
    "longitude = 86.9250\n",
    "formatted_coordinates = \"Coordinates: ({}, {})\".format(latitude, longitude)\n",
    "print(formatted_coordinates)"
   ]
  },
  {
   "cell_type": "code",
   "execution_count": null,
   "id": "20",
   "metadata": {},
   "outputs": [],
   "source": [
    "formatted_coordinates_fstring = f\"Coordinates: ({latitude}, {longitude})\"\n",
    "print(formatted_coordinates_fstring)"
   ]
  },
  {
   "cell_type": "markdown",
   "id": "21",
   "metadata": {},
   "source": [
    "Well-Known Text (WKT) is a text markup language for representing vector geometry objects. Let's format a string to represent a POINT geometry:"
   ]
  },
  {
   "cell_type": "code",
   "execution_count": null,
   "id": "22",
   "metadata": {},
   "outputs": [],
   "source": [
    "wkt_point = f\"POINT({longitude} {latitude})\"\n",
    "print(wkt_point)"
   ]
  },
  {
   "cell_type": "markdown",
   "id": "23",
   "metadata": {},
   "source": [
    "## Parsing and Extracting Information from Strings\n",
    "\n",
    "Often, you will need to extract specific information from strings, especially when dealing with geographic data. For example, you might need to extract coordinates from a formatted string."
   ]
  },
  {
   "cell_type": "code",
   "execution_count": 1,
   "id": "24",
   "metadata": {},
   "outputs": [
    {
     "name": "stdout",
     "output_type": "stream",
     "text": [
      "Parsed coordinates: (27.9881, 86.925)\n"
     ]
    }
   ],
   "source": [
    "coordinate_string = \"27.9881N, 86.9250E\"\n",
    "lat_str, lon_str = coordinate_string.split(\", \")\n",
    "latitude = float(lat_str[:-1])  # Convert string to float and remove the 'N'\n",
    "longitude = float(lon_str[:-1])  # Convert string to float and remove the 'E'\n",
    "print(f\"Parsed coordinates: ({latitude}, {longitude})\")"
   ]
  },
  {
   "cell_type": "code",
   "execution_count": null,
   "id": "32e0faa4",
   "metadata": {},
   "outputs": [],
   "source": []
  },
  {
   "cell_type": "markdown",
   "id": "25",
   "metadata": {},
   "source": [
    "If you have a list of addresses in the format \"Street, City, Country\", you might want to parse and extract each component:"
   ]
  },
  {
   "cell_type": "code",
   "execution_count": 4,
   "id": "26",
   "metadata": {},
   "outputs": [
    {
     "name": "stdout",
     "output_type": "stream",
     "text": [
      "Street: 123 Everest Rd, City: Kathmandu, Country: Nepal\n"
     ]
    }
   ],
   "source": [
    "address = \"123 Everest Rd, Kathmandu, Nepal\"\n",
    "street, city, country = address.split(\", \")\n",
    "print(f\"Street: {street}, City: {city}, Country: {country}\")"
   ]
  },
  {
   "cell_type": "markdown",
   "id": "27",
   "metadata": {},
   "source": [
    "## Exercises\n",
    "\n",
    "1. Create a string representing the name of a city. Convert the string to lowercase and then to uppercase.\n",
    "2. Take a string with the format 'latitude, longitude' (e.g., '40.7128N, 74.0060W') and extract the numeric values of latitude and longitude.\n",
    "3. Create a formatted string that includes the name of a location and its coordinates. Use both the `format()` method and f-strings to achieve this.\n",
    "4. Replace a substring in the name of a place (e.g., change 'San Francisco' to 'San Diego') and print the result.\n",
    "5. Given a list of addresses in the format \"Street, City, Country\", write a function to parse and return a dictionary with keys `street`, `city`, and `country`.\n",
    "6. Write a function that converts a pair of latitude and longitude coordinates into a WKT `POINT` string."
   ]
  },
  {
   "cell_type": "code",
   "execution_count": 7,
   "id": "28",
   "metadata": {},
   "outputs": [
    {
     "name": "stdout",
     "output_type": "stream",
     "text": [
      "KATHMANDU\n",
      "kathmandu\n"
     ]
    }
   ],
   "source": [
    "# 1.- Create a string representing the name of a city. Convert the string to lowercase and then to uppercase.\n",
    "city_name = \"Kathmandu\"\n",
    "city_name_upper = city_name.upper()\n",
    "city_name_lower = city_name.lower()\n",
    "print(city_name_upper) \n",
    "print(city_name_lower)"
   ]
  },
  {
   "cell_type": "code",
   "execution_count": 16,
   "id": "80481573",
   "metadata": {},
   "outputs": [
    {
     "name": "stdout",
     "output_type": "stream",
     "text": [
      "40.7128\n",
      "74.006\n",
      "<class 'float'>\n",
      "<class 'float'>\n"
     ]
    }
   ],
   "source": [
    "# 2. Take a string with the format 'latitude, longitude' and extract the numeric values of latitude and longitude.\n",
    "coordinates_lat_long = (\"40,7128N\", \"74,0060W\")\n",
    "lat_num = coordinates_lat_long[0].replace(\"N\", \"\")\n",
    "long_num = coordinates_lat_long[1].replace(\"W\", \"\")\n",
    "lat_num = float(lat_num.replace(\",\", \".\"))\n",
    "long_num = float(long_num.replace(\",\", \".\"))\n",
    "print(lat_num)\n",
    "print(long_num)\n",
    "print(type(lat_num))\n",
    "print(type(long_num))"
   ]
  },
  {
   "cell_type": "code",
   "execution_count": 24,
   "id": "48f6490f",
   "metadata": {},
   "outputs": [
    {
     "name": "stdout",
     "output_type": "stream",
     "text": [
      "['Mount Everest', '32.9881N', '86.9250E']\n",
      "Location of: Mount Everest, is located at 32.9881N and 86.9250E\n",
      "Location: Mount Everest, 32.9881N, 86.9250E\n",
      "Location: Mount Everest, 32.9881N, 86.9250E\n"
     ]
    }
   ],
   "source": [
    "# 3. Create a formatted string that includes the name of a location and its coordinates. Use both the `format()` method and f-strings to achieve this.\n",
    "location_name = \"Mount Everest, 32.9881N, 86.9250E\"\n",
    "formatted_string = \"Location: {}\".format(location_name)\n",
    "location_name_split = location_name.split(\", \")\n",
    "print(location_name_split)\n",
    "\n",
    "# Using f-string for formatted output\n",
    "print(f'Location of: {location_name_split[0]}, '\n",
    "\t  f'is located at {location_name_split[1]} and {location_name_split[2]}')\n",
    "\n",
    "# Using format() method for formatted output\n",
    "print(f'Location: {location_name}')\n",
    "print(formatted_string)"
   ]
  },
  {
   "cell_type": "code",
   "execution_count": 26,
   "id": "6f7ef2c3",
   "metadata": {},
   "outputs": [
    {
     "name": "stdout",
     "output_type": "stream",
     "text": [
      "San Diego\n"
     ]
    }
   ],
   "source": [
    "# 4. Replace a substring in the name of a place (e.g., change 'San Francisco' to 'San Diego') and print the result.\n",
    "place_name = \"San Francisco\"\n",
    "new_place_name = place_name.replace(\"Francisco\", \"Diego\")\n",
    "print(new_place_name)"
   ]
  },
  {
   "cell_type": "code",
   "execution_count": 35,
   "id": "053d770f",
   "metadata": {},
   "outputs": [
    {
     "name": "stdout",
     "output_type": "stream",
     "text": [
      "['Street', 'City', 'Country']\n",
      "{'Street': 'Runjnawi', 'City': 'Cochabamba', 'Country': 'Cocha'}\n"
     ]
    }
   ],
   "source": [
    "# 5. Given a list of addresses in the format \"Street, City, Country\", write a function to parse and return a dictionary with keys `street`, `city`, and `country`.\n",
    "adresses = \"Street, City, Country\"\n",
    "adresses_split = adresses.split(\", \")\n",
    "print(adresses_split)\n",
    "adresses_dict = {adresses_split[0]: \"Runjnawi\", adresses_split[1]: \"Cochabamba\", adresses_split[2]: \"Cocha\"}\n",
    "print(adresses_dict)"
   ]
  },
  {
   "cell_type": "code",
   "execution_count": 38,
   "id": "0446e449",
   "metadata": {},
   "outputs": [
    {
     "name": "stdout",
     "output_type": "stream",
     "text": [
      " wkt_point: POINT(-74.006 40.7128)\n"
     ]
    }
   ],
   "source": [
    "# 6. Write a function that converts a pair of latitude and longitude coordinates into a WKT `POINT` string.\n",
    "latitude = 40.7128\n",
    "longitude = -74.0060\n",
    "print(f' wkt_point: POINT({longitude} {latitude})')"
   ]
  },
  {
   "cell_type": "markdown",
   "id": "29",
   "metadata": {},
   "source": [
    "## Summary\n",
    "\n",
    "String operations are crucial in geospatial programming, especially when dealing with textual geographic data. Mastering these operations will enable you to handle and manipulate geographic information effectively in your projects, whether you're formatting outputs, parsing inputs, or integrating with geospatial databases."
   ]
  }
 ],
 "metadata": {
  "kernelspec": {
   "display_name": "geo",
   "language": "python",
   "name": "python3"
  },
  "language_info": {
   "codemirror_mode": {
    "name": "ipython",
    "version": 3
   },
   "file_extension": ".py",
   "mimetype": "text/x-python",
   "name": "python",
   "nbconvert_exporter": "python",
   "pygments_lexer": "ipython3",
   "version": "3.11.11"
  }
 },
 "nbformat": 4,
 "nbformat_minor": 5
}
